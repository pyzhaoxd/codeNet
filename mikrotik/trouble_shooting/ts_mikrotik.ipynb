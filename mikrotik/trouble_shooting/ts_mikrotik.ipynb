{
 "cells": [
  {
   "cell_type": "code",
   "execution_count": null,
   "id": "b658c184-cee9-4274-88de-1dd3c5c99cb5",
   "metadata": {},
   "outputs": [],
   "source": [
    "!pip install paramiko     #if prompt paramiko modmodule is not found, run this line first"
   ]
  },
  {
   "cell_type": "raw",
   "id": "1d90c701-85e9-46a7-a447-8f512a93c1c4",
   "metadata": {},
   "source": [
    "Before running the script, make sure the ssh service is enabled, then change the hostname and password"
   ]
  },
  {
   "cell_type": "code",
   "execution_count": null,
   "id": "a0b586cc-4740-4258-a0df-c3e6d4065063",
   "metadata": {},
   "outputs": [],
   "source": [
    "def __main__():\n",
    "    import paramiko\n",
    "    import pandas as pd\n",
    "    \n",
    "    host = '192.168.88.1'       #Mikrotik IP address\n",
    "    user = 'admin'            #username, default is admin\n",
    "    passwd = 'PASSWORD'       #password\n",
    "    \n",
    "    TS_file = 'ts_comm_mikrotik.xlsx'        #trouble shooting commands file, make sure in the same directory \n",
    "    TS_command = 'all'\n",
    "    #TS_command = 'ping'                     #change the sheet name to change the commands\n",
    "    \n",
    "    #By default, using the commands from excel file, also can add your commands here\n",
    "    command = {'Address infomation':'ip add print',\n",
    "               'Interfaces infomation':'interface print detail terse'\n",
    "              }\n",
    "\n",
    "    def connect_host():\n",
    "        print('- connecting host', 20*'>')\n",
    "        client.connect(host, username=user, password=passwd)\n",
    "\n",
    "    def send_command(command):\n",
    "        print('- sending command', 20*'>')\n",
    "        stdin, stdout, stderr = client.exec_command(command) \n",
    "\n",
    "        for line in stdout:\n",
    "            print(line.strip('\\n'))\n",
    "\n",
    "    def close_host():\n",
    "        print('- closing host', 20*'>')\n",
    "        client.close()\n",
    "    \n",
    "    client = paramiko.SSHClient()\n",
    "    client.set_missing_host_key_policy(paramiko.AutoAddPolicy())\n",
    "    connect_host()\n",
    "\n",
    "    #read the commands file\n",
    "    df = pd.read_excel(TS_file,sheet_name=TS_command)\n",
    "    df.dropna(inplace = True)\n",
    "    fcommand = df.set_index('Function').to_dict()['Command']\n",
    "    \n",
    "    #for k,v in command.items():            #if you wanna use command directly, uncomment this line and  comment next line\n",
    "    for k,v in fcommand.items():\n",
    "        print('\\n', 10*'-', k, 10*'-', '\\n')\n",
    "        send_command(v)\n",
    "    close_host()\n",
    "    \n",
    "__main__()"
   ]
  }
 ],
 "metadata": {
  "kernelspec": {
   "display_name": "Python 3",
   "language": "python",
   "name": "python3"
  },
  "language_info": {
   "codemirror_mode": {
    "name": "ipython",
    "version": 3
   },
   "file_extension": ".py",
   "mimetype": "text/x-python",
   "name": "python",
   "nbconvert_exporter": "python",
   "pygments_lexer": "ipython3",
   "version": "3.8.8"
  }
 },
 "nbformat": 4,
 "nbformat_minor": 5
}

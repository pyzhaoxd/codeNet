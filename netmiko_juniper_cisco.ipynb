{
  "nbformat": 4,
  "nbformat_minor": 0,
  "metadata": {
    "colab": {
      "name": "netmiko_juniper_cisco.ipynb",
      "provenance": [],
      "authorship_tag": "ABX9TyOvgtKrgRWI0XFapjom4PEJ",
      "include_colab_link": true
    },
    "kernelspec": {
      "name": "python3",
      "display_name": "Python 3"
    },
    "language_info": {
      "name": "python"
    }
  },
  "cells": [
    {
      "cell_type": "markdown",
      "metadata": {
        "id": "view-in-github",
        "colab_type": "text"
      },
      "source": [
        "<a href=\"https://colab.research.google.com/github/yhvh-chen/codeNet/blob/main/netmiko_juniper_cisco.ipynb\" target=\"_parent\"><img src=\"https://colab.research.google.com/assets/colab-badge.svg\" alt=\"Open In Colab\"/></a>"
      ]
    },
    {
      "cell_type": "code",
      "metadata": {
        "id": "GJZxTk2rCE2E"
      },
      "source": [
        "from netmiko import ConnectHandler"
      ],
      "execution_count": null,
      "outputs": []
    },
    {
      "cell_type": "code",
      "metadata": {
        "id": "bCjdfDG7iXmf"
      },
      "source": [
        "juniper = ConnectHandler(device_type='juniper',\n",
        "                     host='192.168.100.201',\n",
        "                     username='lab',\n",
        "                     password='lab123',\n",
        "                     port=22,  # optional\n",
        "                     )\n",
        "output = juniper.send_command('show conf')\n",
        "    # 关闭连接\n",
        "srx.disconnect()\n",
        "print(output)"
      ],
      "execution_count": null,
      "outputs": []
    },
    {
      "cell_type": "code",
      "metadata": {
        "id": "l23EtMYeln_c"
      },
      "source": [
        "cisco = ConnectHandler(device_type='cisco_ios',\n",
        "                     host='192.168.100.202',\n",
        "                     username='lab',\n",
        "                     password='lab123',\n",
        "                     port=22,  # optinal\n",
        "                     #secret= 'admin123！'  #enable password \n",
        "                     )\n",
        "output = cisco.send_command('show run')\n",
        "    # 关闭连接\n",
        "cisco.disconnect()\n",
        "print(output)"
      ],
      "execution_count": null,
      "outputs": []
    }
  ]
}
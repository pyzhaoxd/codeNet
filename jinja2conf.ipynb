{
  "nbformat": 4,
  "nbformat_minor": 0,
  "metadata": {
    "colab": {
      "name": "jinja2conf.ipynb",
      "provenance": [],
      "collapsed_sections": [],
      "authorship_tag": "ABX9TyP5ZGSZtFp0+bqBFOmjZQG7",
      "include_colab_link": true
    },
    "kernelspec": {
      "name": "python3",
      "display_name": "Python 3"
    },
    "language_info": {
      "name": "python"
    }
  },
  "cells": [
    {
      "cell_type": "markdown",
      "metadata": {
        "id": "view-in-github",
        "colab_type": "text"
      },
      "source": [
        "<a href=\"https://colab.research.google.com/github/yhvh-chen/codeNet/blob/main/jinja2conf.ipynb\" target=\"_parent\"><img src=\"https://colab.research.google.com/assets/colab-badge.svg\" alt=\"Open In Colab\"/></a>"
      ]
    },
    {
      "cell_type": "code",
      "metadata": {
        "id": "mFmGcZv_Sscl"
      },
      "source": [
        "import jinja2"
      ],
      "execution_count": 28,
      "outputs": []
    },
    {
      "cell_type": "code",
      "metadata": {
        "id": "FhZCI5EjZ6Xh"
      },
      "source": [
        "templateLoader = jinja2.FileSystemLoader(searchpath=\"./\")\n",
        "templateEnv = jinja2.Environment(loader=templateLoader)\n",
        "TEMPLATE_FILE = \"conf.j2\"\n",
        "template = templateEnv.get_template(TEMPLATE_FILE)"
      ],
      "execution_count": 29,
      "outputs": []
    },
    {
      "cell_type": "code",
      "metadata": {
        "colab": {
          "base_uri": "https://localhost:8080/"
        },
        "id": "YdqkE_HlgOTw",
        "outputId": "20258b25-5ba6-4e10-84b0-bc78504f1458"
      },
      "source": [
        "output = template.render(just=conf)\n",
        "print(output)"
      ],
      "execution_count": 32,
      "outputs": [
        {
          "output_type": "stream",
          "text": [
            "interface lo0\n",
            "description test\n",
            "ip address 1.1.1.1 255.255.255.255\n"
          ],
          "name": "stdout"
        }
      ]
    },
    {
      "cell_type": "code",
      "metadata": {
        "id": "DBS_2EgZskx3"
      },
      "source": [
        "with open(\"conf\", \"w+\") as f:\n",
        "    f.write(output)"
      ],
      "execution_count": 33,
      "outputs": []
    }
  ]
}